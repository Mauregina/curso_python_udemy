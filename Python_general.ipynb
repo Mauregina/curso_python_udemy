{
  "nbformat": 4,
  "nbformat_minor": 0,
  "metadata": {
    "colab": {
      "name": "Python_general.ipynb",
      "provenance": [],
      "collapsed_sections": [
        "nWT0Fwf0EPlk",
        "blxJSkUIFqY1",
        "LU54QnKoGpH_",
        "nfiXC7mqHg2c",
        "k77DHpcxHza1",
        "BSCP37BRJHaF",
        "qp6joPrmJzFE",
        "3_D5aVh9Mtqs",
        "GX6AIIU5Ne6V",
        "F3hqNMK9OH3c",
        "gHtmR8ophRTq",
        "RHhfYfCH0CK_"
      ],
      "authorship_tag": "ABX9TyMNC5Ri+RYVe1pWCIByX1ny",
      "include_colab_link": true
    },
    "kernelspec": {
      "name": "python3",
      "display_name": "Python 3"
    },
    "language_info": {
      "name": "python"
    }
  },
  "cells": [
    {
      "cell_type": "markdown",
      "metadata": {
        "id": "view-in-github",
        "colab_type": "text"
      },
      "source": [
        "<a href=\"https://colab.research.google.com/github/Mauregina/projetos_curso_python_udemy/blob/master/Python_general.ipynb\" target=\"_parent\"><img src=\"https://colab.research.google.com/assets/colab-badge.svg\" alt=\"Open In Colab\"/></a>"
      ]
    },
    {
      "cell_type": "markdown",
      "source": [
        "# <font color=green>Lambda e Funções Integradas</font>\n",
        "***"
      ],
      "metadata": {
        "id": "nWT0Fwf0EPlk"
      }
    },
    {
      "cell_type": "code",
      "source": [
        "import numpy as np\n",
        "\n",
        "def sigmoid(z):\n",
        "  return 1 / (1 + np.exp(-z))\n",
        "\n",
        "sigmoid(-2)  "
      ],
      "metadata": {
        "colab": {
          "base_uri": "https://localhost:8080/"
        },
        "id": "21eIaqMgIOga",
        "outputId": "bc651fed-8b9c-47e9-de8a-c7a429f86903"
      },
      "execution_count": null,
      "outputs": [
        {
          "output_type": "execute_result",
          "data": {
            "text/plain": [
              "0.11920292202211755"
            ]
          },
          "metadata": {},
          "execution_count": 15
        }
      ]
    },
    {
      "cell_type": "code",
      "source": [
        "from scipy.spatial import distance\n",
        "\n",
        "distance.euclidean([9, 6], [5, 5])"
      ],
      "metadata": {
        "colab": {
          "base_uri": "https://localhost:8080/"
        },
        "id": "U-Qim1bVFpT5",
        "outputId": "ebf42171-00c1-41a9-f1f7-9ad7209b0a25"
      },
      "execution_count": null,
      "outputs": [
        {
          "output_type": "execute_result",
          "data": {
            "text/plain": [
              "4.123105625617661"
            ]
          },
          "metadata": {},
          "execution_count": 29
        }
      ]
    },
    {
      "cell_type": "markdown",
      "source": [
        "## <font color='red'>Lambda</font>"
      ],
      "metadata": {
        "id": "9ppzHws_gKwK"
      }
    },
    {
      "cell_type": "code",
      "source": [
        "# Defina uma funcao que calcule a soma dos quadrados de dois números x e y\n",
        "print((lambda x, y: x**2 + y**2)(2,3))"
      ],
      "metadata": {
        "colab": {
          "base_uri": "https://localhost:8080/"
        },
        "id": "MepOtd6qgK6Y",
        "outputId": "d3c4a408-697c-4d54-93dc-b72c2b4f0ad9"
      },
      "execution_count": null,
      "outputs": [
        {
          "output_type": "stream",
          "name": "stdout",
          "text": [
            "13\n"
          ]
        }
      ]
    },
    {
      "cell_type": "code",
      "source": [
        "# Converter grau Celsius para Fahrenheit\n",
        "cidades = [('Rio de Janeiro', 37), ('Manaus', 32), ('Belo Horizonte', 29), ('Curitiba', 18), ('Brasilia', 24)]\n",
        "list(map(lambda cidade: (cidade[0], cidade[1]+32), cidades))"
      ],
      "metadata": {
        "colab": {
          "base_uri": "https://localhost:8080/"
        },
        "id": "NNKIiLPWFIQf",
        "outputId": "bc057a34-8fb5-4f02-aceb-b57182514c4a"
      },
      "execution_count": null,
      "outputs": [
        {
          "output_type": "execute_result",
          "data": {
            "text/plain": [
              "[('Rio de Janeiro', 69),\n",
              " ('Manaus', 64),\n",
              " ('Belo Horizonte', 61),\n",
              " ('Curitiba', 50),\n",
              " ('Brasilia', 56)]"
            ]
          },
          "metadata": {},
          "execution_count": 4
        }
      ]
    },
    {
      "cell_type": "markdown",
      "source": [
        "## <font color='red'>List Comprehension</font>"
      ],
      "metadata": {
        "id": "ZpwUELoMltsI"
      }
    },
    {
      "cell_type": "code",
      "source": [
        "# Defina a funcao triangulo que recebe como argumento um número natural N e devolve uma lista em que o primeiro elemento\n",
        "# eh a lista [1], o segundo elemento eh a lista [1, 2] e assim sucessivamente ate N\n",
        "n = 5\n",
        "lista = [[j for j in range(1, i+1)] for i in range(1, n+1)]\n",
        "print(lista)"
      ],
      "metadata": {
        "colab": {
          "base_uri": "https://localhost:8080/"
        },
        "id": "DCAoOZPylrVK",
        "outputId": "a29a3531-4659-4b05-eab6-2addd7a02a57"
      },
      "execution_count": null,
      "outputs": [
        {
          "output_type": "stream",
          "name": "stdout",
          "text": [
            "[[1], [1, 2], [1, 2, 3], [1, 2, 3, 4], [1, 2, 3, 4, 5]]\n"
          ]
        }
      ]
    },
    {
      "cell_type": "code",
      "source": [
        "# Defina a funcao que recebe como argumentos uma lista de inteiros e um número inteiro e devolve a lista que resulta de\n",
        "# apagar da lista todas as ocorrências do numero dado\n",
        "numeros = [1, 2, 3, 4, 5, 2, 4, 5, 5, 2]\n",
        "i = 5\n",
        "print(list(x for x, numero in enumerate(numeros) if numero==i))"
      ],
      "metadata": {
        "colab": {
          "base_uri": "https://localhost:8080/"
        },
        "id": "5mDK_KUT1dm8",
        "outputId": "8a73b93f-50ab-41bc-9825-440b76a589c8"
      },
      "execution_count": null,
      "outputs": [
        {
          "output_type": "stream",
          "name": "stdout",
          "text": [
            "[4, 7, 8]\n"
          ]
        }
      ]
    },
    {
      "cell_type": "code",
      "source": [
        "# Defina a funcao que recebe como argumento uma lista de numeros inteiro e devolve a lista das posicoes onde ocorre o maximo da lista\n",
        "numeros = [1, 2, 3, 4, 5, 2, 4, 5, 5, 2]\n",
        "print(list(x for x, numero in enumerate(numeros) if numero==max(numeros)))"
      ],
      "metadata": {
        "colab": {
          "base_uri": "https://localhost:8080/"
        },
        "id": "V9h1Cge91ij6",
        "outputId": "e3353315-16f3-4883-d261-cbf6aa19edd4"
      },
      "execution_count": null,
      "outputs": [
        {
          "output_type": "stream",
          "name": "stdout",
          "text": [
            "[4, 7, 8]\n"
          ]
        }
      ]
    },
    {
      "cell_type": "markdown",
      "source": [
        "## <font color='red'>Generator Comprehension</font>"
      ],
      "metadata": {
        "id": "3ECc3VvsIarU"
      }
    },
    {
      "cell_type": "code",
      "source": [
        "lista = ['Carlos', 'Camila', 'Cristian', 'Carla', 'Maura']\n",
        "\n",
        "# List/Dict/Set comprehension sao menos performaticos\n",
        "# Gera na memoria/Utilizar se precisar da lista\n",
        "result = [nome[0]=='C' for nome in lista]\n",
        "print(type(result))\n",
        "print(result) #gera lista\n",
        "\n",
        "# Generator eh mais performatico (Nao gera na memoria)\n",
        "result = (nome[0]=='C' for nome in lista)\n",
        "print(type(result))\n",
        "print(result) #gera um generator"
      ],
      "metadata": {
        "colab": {
          "base_uri": "https://localhost:8080/"
        },
        "id": "hCU2z3alIZ8F",
        "outputId": "3d111a19-eb08-43a1-b42f-4d9c9b7430b0"
      },
      "execution_count": null,
      "outputs": [
        {
          "output_type": "stream",
          "name": "stdout",
          "text": [
            "<class 'list'>\n",
            "[True, True, True, True, False]\n",
            "<class 'generator'>\n",
            "<generator object <genexpr> at 0x7faee1ef5f50>\n"
          ]
        }
      ]
    },
    {
      "cell_type": "markdown",
      "source": [
        "## <font color='red'>Map</font>"
      ],
      "metadata": {
        "id": "9B3QAJ_zEOU-"
      }
    },
    {
      "cell_type": "code",
      "source": [
        "# Escreva uma funcao que receba uma lista de nomes e retorne uma lista com a string \\\"Sr. \\\"\n",
        "nomes = ['Maura', 'Regina', 'Tais', 'Mariana', 'Liana']\n",
        "print(list(map(lambda nome: 'Srta ' + nome, nomes)))"
      ],
      "metadata": {
        "colab": {
          "base_uri": "https://localhost:8080/"
        },
        "id": "WgJOXSLjiOnr",
        "outputId": "e71e91f4-3c96-4a42-bbd3-f089ee23bf84"
      },
      "execution_count": null,
      "outputs": [
        {
          "output_type": "stream",
          "name": "stdout",
          "text": [
            "['Srta Maura', 'Srta Regina', 'Srta Tais', 'Srta Mariana', 'Srta Liana']\n"
          ]
        }
      ]
    },
    {
      "cell_type": "code",
      "source": [
        "# Escreva uma funcao que, dada uma lista de numeros, calcule 3*n**2 + 2/n + 1 para cada número n da lista\n",
        "numeros = [1, 2, 3, 4, 5]\n",
        "print(list(map(lambda numero: 3*numero**2+2/numero+1, numeros)))"
      ],
      "metadata": {
        "colab": {
          "base_uri": "https://localhost:8080/"
        },
        "id": "yE7Xw2mZjrxJ",
        "outputId": "25365aed-4487-4f8f-8fa4-5367b01e08c6"
      },
      "execution_count": null,
      "outputs": [
        {
          "output_type": "stream",
          "name": "stdout",
          "text": [
            "[6.0, 14.0, 28.666666666666668, 49.5, 76.4]\n"
          ]
        }
      ]
    },
    {
      "cell_type": "markdown",
      "source": [
        "## <font color='red'>Filter</font>"
      ],
      "metadata": {
        "id": "blxJSkUIFqY1"
      }
    },
    {
      "cell_type": "code",
      "source": [
        "dicionario = [{'nome':'Maura','tweets':['Somos todos python','Hoje eh feriado']},\n",
        "              {'nome':'Regina','tweets':[]},\n",
        "              {'nome':'Paula','tweets':[]},\n",
        "              {'nome':'Jose','tweets':['BBB21','Hoje eh feriado', 'Juliete']},\n",
        "              {'nome':'Fernanda','tweets':['Inteligencia Artificial','Ciencia de Dados']}]\n",
        "\n",
        "# Filtrar itens vazios\n",
        "list(filter(lambda item: len(item['tweets'])==0, dicionario))"
      ],
      "metadata": {
        "colab": {
          "base_uri": "https://localhost:8080/"
        },
        "id": "FtlQU-x2F8wF",
        "outputId": "284da602-2509-4bf5-e426-d03946ca32e2"
      },
      "execution_count": null,
      "outputs": [
        {
          "output_type": "execute_result",
          "data": {
            "text/plain": [
              "[{'nome': 'Regina', 'tweets': []}, {'nome': 'Paula', 'tweets': []}]"
            ]
          },
          "metadata": {},
          "execution_count": 35
        }
      ]
    },
    {
      "cell_type": "code",
      "source": [
        "# Escreva uma funcao que, dada uma lista de numeros, retorne uma lista com apenas os que forem negativos\n",
        "numeros = [1, -2, 3, -4, 5]\n",
        "print(list(filter(lambda numero: numero<0, numeros)))"
      ],
      "metadata": {
        "colab": {
          "base_uri": "https://localhost:8080/"
        },
        "id": "QOQ4MxZCj9Ew",
        "outputId": "39346bc5-2579-4d84-9365-b200a3779dc9"
      },
      "execution_count": null,
      "outputs": [
        {
          "output_type": "stream",
          "name": "stdout",
          "text": [
            "[-2, -4]\n"
          ]
        }
      ]
    },
    {
      "cell_type": "code",
      "source": [
        "# Escreva uma funcao que receba uma lista de numeros e retorne somente os que estiverem entre 1 e 100.\n",
        "numeros = [-3, 0, 1, 56, 78, 99, 100, 115, 230, 360]\n",
        "print(list(filter(lambda numero: 1<=numero<=100, numeros)))"
      ],
      "metadata": {
        "colab": {
          "base_uri": "https://localhost:8080/"
        },
        "id": "RZgE368OkXIC",
        "outputId": "c534c0a9-17a1-4dd9-961b-b8fef1213766"
      },
      "execution_count": null,
      "outputs": [
        {
          "output_type": "stream",
          "name": "stdout",
          "text": [
            "[1, 56, 78, 99, 100]\n"
          ]
        }
      ]
    },
    {
      "cell_type": "code",
      "source": [
        "# Escreva uma funcao que receba uma lista de numeros e retorne somente aqueles que forem pares\n",
        "numeros = [-3, 0, 1, 56, 78, 99, 100, 115, 230, 360]\n",
        "print(list(filter(lambda numero: numero%2==1, numeros)))"
      ],
      "metadata": {
        "colab": {
          "base_uri": "https://localhost:8080/"
        },
        "id": "Qysj0I-5kZrg",
        "outputId": "71f6c245-3f06-4af7-fafb-9ee37e1dfdcc"
      },
      "execution_count": null,
      "outputs": [
        {
          "output_type": "stream",
          "name": "stdout",
          "text": [
            "[-3, 1, 99, 115]\n"
          ]
        }
      ]
    },
    {
      "cell_type": "code",
      "source": [
        "# Defina a funcao que recebe como argumentos uma lista de inteiros e um número inteiro e devolve a lista que resulta de\n",
        "# apagar da lista todas as ocorrências do numero dado\n",
        "numeros = [1, 2, 2, 3, 4, 5, 2, 4, 5, 5, 2]\n",
        "i = 5\n",
        "print(list(filter(lambda numero: numero!=i, numeros)))"
      ],
      "metadata": {
        "colab": {
          "base_uri": "https://localhost:8080/"
        },
        "id": "KSvv13MC1MXq",
        "outputId": "69335f0d-7c45-454c-96a1-0bf454436372"
      },
      "execution_count": null,
      "outputs": [
        {
          "output_type": "stream",
          "name": "stdout",
          "text": [
            "[1, 2, 2, 3, 4, 2, 4, 2]\n"
          ]
        }
      ]
    },
    {
      "cell_type": "markdown",
      "source": [
        "## <font color='red'>Map + Filter</font>"
      ],
      "metadata": {
        "id": "LU54QnKoGpH_"
      }
    },
    {
      "cell_type": "code",
      "source": [
        "nomes = ['Vanessa', 'Ana', 'Maria', 'Paty']\n",
        "\n",
        "lista = list(map(lambda nome: f'Sua instrutora eh: {nome}', filter(lambda nome: len(nome)<5, nomes)))\n",
        "\n",
        "lista"
      ],
      "metadata": {
        "colab": {
          "base_uri": "https://localhost:8080/"
        },
        "id": "ZmBZDwp-G3AL",
        "outputId": "43ff9617-bcba-4210-90c2-8deaabe4c230"
      },
      "execution_count": null,
      "outputs": [
        {
          "output_type": "execute_result",
          "data": {
            "text/plain": [
              "['Sua instrutora eh: Ana', 'Sua instrutora eh: Paty']"
            ]
          },
          "metadata": {},
          "execution_count": 9
        }
      ]
    },
    {
      "cell_type": "markdown",
      "source": [
        "## <font color='red'>All</font>"
      ],
      "metadata": {
        "id": "nfiXC7mqHg2c"
      }
    },
    {
      "cell_type": "code",
      "source": [
        "# Retorna TRUE se todos elemento do iteravel sao verdadeiros ou se iteravel estah vazio\n",
        "\n",
        "lista = ['Carlos', 'Camila', 'Cristian', 'Carla']\n",
        "print(all([nome[0]=='C' for nome in lista])) #retorna TRUE\n",
        "\n",
        "lista = ['Carlos', 'Camila', 'Cristian', 'Carla', 'Maura']\n",
        "print(all([nome[0]=='C' for nome in lista])) #retorna FALSE"
      ],
      "metadata": {
        "colab": {
          "base_uri": "https://localhost:8080/"
        },
        "id": "JPUX2jHvHhIF",
        "outputId": "018a6e0c-9c58-4089-8861-4462db4ae170"
      },
      "execution_count": null,
      "outputs": [
        {
          "output_type": "stream",
          "name": "stdout",
          "text": [
            "True\n",
            "False\n"
          ]
        }
      ]
    },
    {
      "cell_type": "markdown",
      "source": [
        "## <font color='red'>Any</font>"
      ],
      "metadata": {
        "id": "k77DHpcxHza1"
      }
    },
    {
      "cell_type": "code",
      "source": [
        "# Retorna TRUE se qualquer elemento do iteravel é verdadeiro. Se iteravel estah vazio retorna FALSE\n",
        "lista = ['Carlos', 'Camila', 'Cristian', 'Carla', 'Maura']\n",
        "print(any([nome[0]=='C' for nome in lista])) #retorna True"
      ],
      "metadata": {
        "colab": {
          "base_uri": "https://localhost:8080/"
        },
        "id": "-Ed6z7e_Hzwt",
        "outputId": "f4ab2d70-71a2-4215-c72b-488c1f570f35"
      },
      "execution_count": null,
      "outputs": [
        {
          "output_type": "stream",
          "name": "stdout",
          "text": [
            "True\n"
          ]
        }
      ]
    },
    {
      "cell_type": "code",
      "source": [
        "# Crie uma funcao que verifique se o caracter C esta contido na String. O resultado deve ser True ou False (Voce nao deve usar o operador IN)\n",
        "palavra = 'caderno'\n",
        "caract = 'c'\n",
        "print(any(c.lower() == caract.lower() for c in list(palavra)))"
      ],
      "metadata": {
        "colab": {
          "base_uri": "https://localhost:8080/"
        },
        "id": "8krsbZnkkvga",
        "outputId": "3c773eda-652d-408a-f1e9-e7bbb68bb01f"
      },
      "execution_count": null,
      "outputs": [
        {
          "output_type": "stream",
          "name": "stdout",
          "text": [
            "True\n"
          ]
        }
      ]
    },
    {
      "cell_type": "code",
      "source": [
        "# Defina a funcao que recebe como argumento uma lista de numeros inteiros e devolve True se lista contem um numero par e\n",
        "# False em caso contrario\n",
        "numeros = [1, 3, 5]\n",
        "print(any(numero%2==0 for numero in numeros))"
      ],
      "metadata": {
        "colab": {
          "base_uri": "https://localhost:8080/"
        },
        "id": "-kDfSqzn0ztq",
        "outputId": "b481c2e2-8436-4120-8281-9d1e23f1df3c"
      },
      "execution_count": null,
      "outputs": [
        {
          "output_type": "stream",
          "name": "stdout",
          "text": [
            "False\n"
          ]
        }
      ]
    },
    {
      "cell_type": "markdown",
      "source": [
        "## <font color='red'>Min / Max</font>"
      ],
      "metadata": {
        "id": "BSCP37BRJHaF"
      }
    },
    {
      "cell_type": "code",
      "source": [
        "lista = ['Maura', 'Antonia', 'Regina', 'Priscila', 'Anitta', 'Helena', 'Veronica']\n",
        "print(max(lista)) #Maior por ordem alfabetica\n",
        "print(max(lista, key=lambda nome: len(nome))) #Maior por tamanho string"
      ],
      "metadata": {
        "colab": {
          "base_uri": "https://localhost:8080/"
        },
        "id": "GLXs_X8XJGkM",
        "outputId": "b91475fc-eeba-4b0e-da0a-5fb1a590e791"
      },
      "execution_count": null,
      "outputs": [
        {
          "output_type": "stream",
          "name": "stdout",
          "text": [
            "Veronica\n",
            "Priscila\n"
          ]
        }
      ]
    },
    {
      "cell_type": "code",
      "source": [
        "musicas = [\n",
        "    {'titulo': 'Na batida', 'tocou':41},\n",
        "    {'titulo': 'Bang', 'tocou':23},\n",
        "    {'titulo': 'Menina ma', 'tocou':32},\n",
        "    {'titulo': 'Essa minha eh louca', 'tocou':98},\n",
        "    {'titulo': 'Sim ou nao', 'tocou':56}\n",
        "]\n",
        "# Musica que mais tocou\n",
        "print(max(musicas, key=lambda musica: musica['tocou']))\n",
        "\n",
        "# Imprimir so titulo da musica que mais tocou\n",
        "print(max(musicas, key=lambda musica: musica['tocou'])['titulo'])"
      ],
      "metadata": {
        "colab": {
          "base_uri": "https://localhost:8080/"
        },
        "id": "bEqwCHNzJRfU",
        "outputId": "63f87594-0281-4aa3-874e-fc02bdabd67c"
      },
      "execution_count": null,
      "outputs": [
        {
          "output_type": "stream",
          "name": "stdout",
          "text": [
            "{'titulo': 'Essa minha eh louca', 'tocou': 98}\n",
            "Essa minha eh louca\n"
          ]
        }
      ]
    },
    {
      "cell_type": "markdown",
      "source": [
        "## <font color='red'>Sort / Sorted</font>"
      ],
      "metadata": {
        "id": "qp6joPrmJzFE"
      }
    },
    {
      "cell_type": "code",
      "execution_count": null,
      "metadata": {
        "colab": {
          "base_uri": "https://localhost:8080/"
        },
        "id": "JDZ5jk0GDLLW",
        "outputId": "c2c9626e-59c7-4f43-9a9e-afddd12b79de"
      },
      "outputs": [
        {
          "output_type": "execute_result",
          "data": {
            "text/plain": [
              "['Machado de Assis',\n",
              " 'Jane Austen',\n",
              " 'Pedro Bandeira',\n",
              " 'Marion Zimmer Bradley',\n",
              " 'Charlote Bronet',\n",
              " 'Thalita Reboucas',\n",
              " 'J. K. Rowling',\n",
              " 'Token',\n",
              " 'Raul Toledo']"
            ]
          },
          "metadata": {},
          "execution_count": 2
        }
      ],
      "source": [
        "# Colocar lista em ordem alfabética por sobrenome\n",
        "\n",
        "lista = ['J. K. Rowling', 'Machado de Assis', 'Thalita Reboucas', 'Pedro Bandeira', 'Raul Toledo', 'Token',\n",
        "         'Marion Zimmer Bradley', 'Charlote Bronet', 'Jane Austen']\n",
        "\n",
        "lista.sort(key=lambda sobrenome: sobrenome.split(' ')[-1])\n",
        "\n",
        "lista"
      ]
    },
    {
      "cell_type": "code",
      "source": [
        "musicas = [\n",
        "    {'titulo': 'Na batida', 'tocou':41},\n",
        "    {'titulo': 'Bang', 'tocou':23},\n",
        "    {'titulo': 'Menina ma', 'tocou':32},\n",
        "    {'titulo': 'Essa minha eh louca', 'tocou':98},\n",
        "    {'titulo': 'Sim ou nao', 'tocou':56}\n",
        "]\n",
        "# ordenar por titulo\n",
        "print(sorted(musicas, key=lambda musica: musica['titulo']))\n",
        "\n",
        "# ordenar por mais tocadas\n",
        "print(sorted(musicas, key=lambda musica: musica['tocou'], reverse=True))"
      ],
      "metadata": {
        "colab": {
          "base_uri": "https://localhost:8080/"
        },
        "id": "XqKr1P3bJxW1",
        "outputId": "06a94134-b627-41af-d9ae-9083ac3cfe0f"
      },
      "execution_count": null,
      "outputs": [
        {
          "output_type": "stream",
          "name": "stdout",
          "text": [
            "[{'titulo': 'Bang', 'tocou': 23}, {'titulo': 'Essa minha eh louca', 'tocou': 98}, {'titulo': 'Menina ma', 'tocou': 32}, {'titulo': 'Na batida', 'tocou': 41}, {'titulo': 'Sim ou nao', 'tocou': 56}]\n",
            "[{'titulo': 'Essa minha eh louca', 'tocou': 98}, {'titulo': 'Sim ou nao', 'tocou': 56}, {'titulo': 'Na batida', 'tocou': 41}, {'titulo': 'Menina ma', 'tocou': 32}, {'titulo': 'Bang', 'tocou': 23}]\n"
          ]
        }
      ]
    },
    {
      "cell_type": "code",
      "source": [
        "# Defina a funcao que recebe como argumentos duas listas e devolve True se L2 for permutacao de L1,\n",
        "# e devolve False em caso contrario\n",
        "lista1 = [1, 2, 3]\n",
        "lista2 = [1, 3, 2]\n",
        "print(sorted(lista1) == sorted(lista2))"
      ],
      "metadata": {
        "colab": {
          "base_uri": "https://localhost:8080/"
        },
        "id": "rf9Z35WQ1C4_",
        "outputId": "e1fffa3e-61c1-4519-cf92-011c86859400"
      },
      "execution_count": null,
      "outputs": [
        {
          "output_type": "stream",
          "name": "stdout",
          "text": [
            "True\n"
          ]
        }
      ]
    },
    {
      "cell_type": "markdown",
      "source": [
        "## <font color='red'>Reversed</font>"
      ],
      "metadata": {
        "id": "3_D5aVh9Mtqs"
      }
    },
    {
      "cell_type": "code",
      "source": [
        "# iterando com reversed\n",
        "for letra in reversed('Maura Regina Almeida da Costa'):\n",
        "    print(letra, end='')"
      ],
      "metadata": {
        "colab": {
          "base_uri": "https://localhost:8080/"
        },
        "id": "qdgG_BldMmG2",
        "outputId": "eddbc66d-4255-436f-c162-91d7cd0129c3"
      },
      "execution_count": null,
      "outputs": [
        {
          "output_type": "stream",
          "name": "stdout",
          "text": [
            "atsoC ad adiemlA anigeR aruaM"
          ]
        }
      ]
    },
    {
      "cell_type": "code",
      "source": [
        "# sem reversed\n",
        "print(''.join(list(reversed('Maura Regina Almeida da Costa'))))"
      ],
      "metadata": {
        "colab": {
          "base_uri": "https://localhost:8080/"
        },
        "id": "qRtBeIqpM-Kt",
        "outputId": "f7576ff2-a280-46f9-fdce-ca381b61d998"
      },
      "execution_count": null,
      "outputs": [
        {
          "output_type": "stream",
          "name": "stdout",
          "text": [
            "atsoC ad adiemlA anigeR aruaM\n"
          ]
        }
      ]
    },
    {
      "cell_type": "markdown",
      "source": [
        "## <font color='red'>Sum</font>"
      ],
      "metadata": {
        "id": "GX6AIIU5Ne6V"
      }
    },
    {
      "cell_type": "code",
      "source": [
        "dicionario = {'a': 1, 'b': 2, 'c': 3, 'd': 4, 'e': 5}\n",
        "print(sum(dicionario.values()))"
      ],
      "metadata": {
        "colab": {
          "base_uri": "https://localhost:8080/"
        },
        "id": "d71bhspnNf1d",
        "outputId": "edece734-a91a-49f6-c64f-3d75194fa33b"
      },
      "execution_count": null,
      "outputs": [
        {
          "output_type": "stream",
          "name": "stdout",
          "text": [
            "15\n"
          ]
        }
      ]
    },
    {
      "cell_type": "code",
      "source": [
        "# Crie uma funcao que receba uma string e retorne o numero de espacos nela contidos\n",
        "texto = 'Exemplo com 3 espacos'\n",
        "print(sum(i==' ' for i in list(texto)))"
      ],
      "metadata": {
        "colab": {
          "base_uri": "https://localhost:8080/"
        },
        "id": "rRWKHO7kirgS",
        "outputId": "9dd7d528-3397-450d-9979-130c2f1ff979"
      },
      "execution_count": null,
      "outputs": [
        {
          "output_type": "stream",
          "name": "stdout",
          "text": [
            "3\n"
          ]
        }
      ]
    },
    {
      "cell_type": "code",
      "source": [
        "# Defina a funcao conta que recebe como argumentos uma lista de numeros inteiros W e um numero inteiro  X  e devolve o\n",
        "# numero de ocorrencias de X em W\n",
        "numeros = [1, 2, 2, 3, 4, 5, 2, 4, 5, 5, 2]\n",
        "i = 2\n",
        "print(sum(numero==i for numero in numeros))"
      ],
      "metadata": {
        "colab": {
          "base_uri": "https://localhost:8080/"
        },
        "id": "67k5aSqa0LYi",
        "outputId": "d929bf84-4638-428e-f01f-5cc11766e9d7"
      },
      "execution_count": null,
      "outputs": [
        {
          "output_type": "stream",
          "name": "stdout",
          "text": [
            "4\n"
          ]
        }
      ]
    },
    {
      "cell_type": "code",
      "source": [
        "# Defina a funcao media_digitos que recebe como argumento um numero natural e devolve a media dos seus digitos\n",
        "numeros = 123456\n",
        "print(sum(int(numero) for numero in str(numeros))/len(str(numeros)))"
      ],
      "metadata": {
        "colab": {
          "base_uri": "https://localhost:8080/"
        },
        "id": "mDg9aeYi2wRg",
        "outputId": "2cda9eaf-479e-42c1-8899-40977bde95a0"
      },
      "execution_count": null,
      "outputs": [
        {
          "output_type": "stream",
          "name": "stdout",
          "text": [
            "3.5\n"
          ]
        }
      ]
    },
    {
      "cell_type": "markdown",
      "source": [
        "## <font color='red'>Zip</font>"
      ],
      "metadata": {
        "id": "F3hqNMK9OH3c"
      }
    },
    {
      "cell_type": "code",
      "source": [
        "#Agrega elementos de dois ou mais iteraveis. Gera um Zip Object\n",
        "lista1 = [1, 2, 3]\n",
        "lista2 = [4, 5, 6, 7]\n",
        "lista3 = [8, 9, 10, 11, 12]\n",
        "print(list(zip(lista1, lista2, lista3)))"
      ],
      "metadata": {
        "colab": {
          "base_uri": "https://localhost:8080/"
        },
        "id": "RWqPNfmLOHBM",
        "outputId": "bfbd72f6-1196-4193-ba73-1bf01c499af6"
      },
      "execution_count": null,
      "outputs": [
        {
          "output_type": "stream",
          "name": "stdout",
          "text": [
            "[(1, 4, 8), (2, 5, 9), (3, 6, 10)]\n"
          ]
        }
      ]
    },
    {
      "cell_type": "code",
      "source": [
        "# Iteraveis diferentes\n",
        "tupla = 1, 2, 3, 4, 5\n",
        "lista = [6, 7, 8, 9, 10]\n",
        "dicionario = {'a':11, 'b':12, 'c':13, 'd':14, 'e':15}\n",
        "\n",
        "print(list(zip(tupla, lista, dicionario))) \n",
        "print(list(zip(tupla, lista, dicionario.values()))) "
      ],
      "metadata": {
        "colab": {
          "base_uri": "https://localhost:8080/"
        },
        "id": "rtLiU44sOVpU",
        "outputId": "72e2ddec-00e2-48b6-ec42-86c10f2c6aa9"
      },
      "execution_count": null,
      "outputs": [
        {
          "output_type": "stream",
          "name": "stdout",
          "text": [
            "[(1, 6, 'a'), (2, 7, 'b'), (3, 8, 'c'), (4, 9, 'd'), (5, 10, 'e')]\n",
            "[(1, 6, 11), (2, 7, 12), (3, 8, 13), (4, 9, 14), (5, 10, 15)]\n"
          ]
        }
      ]
    },
    {
      "cell_type": "code",
      "source": [
        "#maior nota de cada aluno\n",
        "prova1 = [7, 9, 6]\n",
        "prova2 = [8, 6, 5]\n",
        "aluno = ['Maura', 'Karla', 'Pedro']\n",
        "\n",
        "dicionario = {i[0]: max(i[1], i[2]) for i in zip(aluno, prova1, prova2)}\n",
        "\n",
        "print(dicionario)"
      ],
      "metadata": {
        "colab": {
          "base_uri": "https://localhost:8080/"
        },
        "id": "4ID2uMFeOrO0",
        "outputId": "a4d20a27-f840-4b76-eeee-32421cbf268f"
      },
      "execution_count": null,
      "outputs": [
        {
          "output_type": "stream",
          "name": "stdout",
          "text": [
            "{'Maura': 8, 'Karla': 9, 'Pedro': 6}\n"
          ]
        }
      ]
    },
    {
      "cell_type": "code",
      "source": [
        "# outra solucao\n",
        "dicionario = zip(aluno, map(lambda i: max(i), zip(prova1, prova2))) \n",
        "print(dict(dicionario)) "
      ],
      "metadata": {
        "colab": {
          "base_uri": "https://localhost:8080/"
        },
        "id": "CpH2KyiGPz_9",
        "outputId": "e3e07a4a-3957-4a59-a47a-abf23ba737d9"
      },
      "execution_count": null,
      "outputs": [
        {
          "output_type": "stream",
          "name": "stdout",
          "text": [
            "{'Maura': 8, 'Karla': 9, 'Pedro': 6}\n"
          ]
        }
      ]
    },
    {
      "cell_type": "markdown",
      "source": [
        "## <font color='red'>Zip + All</font>"
      ],
      "metadata": {
        "id": "gHtmR8ophRTq"
      }
    },
    {
      "cell_type": "code",
      "source": [
        "# Crie uma função que verifique se as listas dadas possuem o mesmo primeiro elemento\n",
        "l1 = [1 ,2, 3]\n",
        "l2 = [1, 3, 5]\n",
        "l3 = [1, 5, 7]\n",
        "primeiros_elementos = list(zip(l1, l2, l3))[0]\n",
        "print(all(elemento == primeiros_elementos[0] for elemento in primeiros_elementos))"
      ],
      "metadata": {
        "colab": {
          "base_uri": "https://localhost:8080/"
        },
        "id": "wo4DYeuOhRdG",
        "outputId": "4af21024-9846-42c9-9ec2-bafda0b96c41"
      },
      "execution_count": null,
      "outputs": [
        {
          "output_type": "stream",
          "name": "stdout",
          "text": [
            "True\n"
          ]
        }
      ]
    },
    {
      "cell_type": "markdown",
      "source": [
        "## <font color='red'>Reduce</font>"
      ],
      "metadata": {
        "id": "RHhfYfCH0CK_"
      }
    },
    {
      "cell_type": "code",
      "source": [
        "# Defina uma funcao que recebe como argumento uma lista de numeros inteiros e devolve o produto dos seus elementos\n",
        "from functools import reduce\n",
        "numeros = [1, 2, 3, 4, 5]\n",
        "print(reduce(lambda num1, num2: num1*num2, numeros))"
      ],
      "metadata": {
        "colab": {
          "base_uri": "https://localhost:8080/"
        },
        "id": "4-CLAKns0Bk5",
        "outputId": "20ceafee-0386-4e24-c1e3-fceb9173d8a3"
      },
      "execution_count": null,
      "outputs": [
        {
          "output_type": "stream",
          "name": "stdout",
          "text": [
            "120\n"
          ]
        }
      ]
    },
    {
      "cell_type": "markdown",
      "source": [
        "## <font color='red'>Utilizandos várias funções</font>"
      ],
      "metadata": {
        "id": "pha5Ep8BRAjE"
      }
    },
    {
      "cell_type": "code",
      "source": [
        "# Defina a funcao que recebe com argumento uma lista e devolve True se a lista for constituida exclusivamente\n",
        "# por lista de numero inteiros e False em caso contrario\n",
        "numeros = [[1, 2, 3], [4, 5, 6], 1]\n",
        "print(all(list(map(lambda linha: False if type(linha) is int else \n",
        "                   (False if type(linha) is not list else \n",
        "                    all(isinstance(item, int) for item in linha)), numeros))))"
      ],
      "metadata": {
        "id": "FZRWhFreRCwr",
        "colab": {
          "base_uri": "https://localhost:8080/"
        },
        "outputId": "d10d9e50-1122-4ff5-d493-2726df1845a2"
      },
      "execution_count": null,
      "outputs": [
        {
          "output_type": "stream",
          "name": "stdout",
          "text": [
            "False\n"
          ]
        }
      ]
    },
    {
      "cell_type": "code",
      "source": [
        "# Defina a funcao que recebe com argumento uma lista e devolve True se a lista eh uma matriz de numeros inteiros e False em caso contrario\n",
        "matriz = [[1, 2, 3], [4, 5, 6], [1]]\n",
        "print(all(map(lambda lista: False if type(lista) is not list else \n",
        "              (all(False if len(lista) != len(matriz[0]) else \n",
        "                   (all(False if type(numero) is not int else \n",
        "                        True for numero in lista)) for lista in matriz)), matriz)))"
      ],
      "metadata": {
        "colab": {
          "base_uri": "https://localhost:8080/"
        },
        "id": "qTnZE0RQ3Sfi",
        "outputId": "9268f64a-db4b-427a-89b4-64b552c4c749"
      },
      "execution_count": null,
      "outputs": [
        {
          "output_type": "stream",
          "name": "stdout",
          "text": [
            "False\n"
          ]
        }
      ]
    },
    {
      "cell_type": "code",
      "source": [
        "# Defina a funcao intercala que recebe como argumentos duas listas devolve a lista resultante de\n",
        "# intercalar os elementos das duas listas\n",
        "lista1 = [1, 3, 5]\n",
        "lista2 = [2, 4, 6, 7, 8]\n",
        "lista3 = [item for x in zip(lista1,lista2) for item in x] + (lista2[len(lista1):] \n",
        "                                                             if len(lista2)>len(lista1) else lista1[len(lista2):])\n",
        "print(lista3)"
      ],
      "metadata": {
        "colab": {
          "base_uri": "https://localhost:8080/"
        },
        "id": "RudltsZA3bKK",
        "outputId": "6dd90971-19ef-479c-d396-4f22938be334"
      },
      "execution_count": null,
      "outputs": [
        {
          "output_type": "stream",
          "name": "stdout",
          "text": [
            "[1, 2, 3, 4, 5, 6, 7, 8]\n"
          ]
        }
      ]
    },
    {
      "cell_type": "code",
      "source": [
        "# Defina a funcao fibonacci que recebe como argumento um numero natural e devolve o n-esimo numero da sucessao de Fibonacci\n",
        "# Recorde que a sucessao dos numeros de Fibonacci eh definida recursivamente como se segue:\n",
        "# fibonacci(1)=1\n",
        "# fibonacci(2)=1\n",
        "# fibonacci(3)= fibonacci(1)+ fibonacci(2) = 1+1\n",
        "# fibonacci(4)= fibonacci(2)+ fibonacci(3) = 1 + (1+1)\n",
        "# fibonacci(5)= fibonacci(3)+ fibonacci(4) = (1+1) + [1 + (1+1)]\n",
        "# fibonacci(6)= fibonacci(4)+ fibonacci(5) = [1 + (1+1)] + [(1+1) + (1 + (1+1))]\n",
        "# 1, 1, 2, 3, 5, 8, 13, 21...\n",
        "\n",
        "def fibonacci(n):\n",
        "    if n==1 or n==2:\n",
        "        return 1\n",
        "    else:\n",
        "        numanterior1 = fibonacci(n-1)\n",
        "        numanterior2 = fibonacci(n-2)\n",
        "        return numanterior1 + numanterior2\n",
        "print(fibonacci(8))"
      ],
      "metadata": {
        "colab": {
          "base_uri": "https://localhost:8080/"
        },
        "id": "6-F57iaB3ht3",
        "outputId": "10b8af83-f228-421a-9d9f-712cc0970641"
      },
      "execution_count": null,
      "outputs": [
        {
          "output_type": "stream",
          "name": "stdout",
          "text": [
            "21\n"
          ]
        }
      ]
    },
    {
      "cell_type": "markdown",
      "source": [
        "# <font color=green>Ambiente Virtual</font>\n",
        "***"
      ],
      "metadata": {
        "id": "ZncGmc1Lv4vN"
      }
    },
    {
      "cell_type": "code",
      "source": [
        "#criar ambiente virtual\n",
        "\n",
        "python -m venv <nome_ambiente>\n",
        "#ou\n",
        "virtualenv <nome_ambiente> --python = python<versao>"
      ],
      "metadata": {
        "id": "CkB-z9FDwCMt"
      },
      "execution_count": null,
      "outputs": []
    },
    {
      "cell_type": "code",
      "source": [
        "#ativar ambiente virtual\n",
        ".\\env\\Scripts\\Activate.ps1"
      ],
      "metadata": {
        "id": "r3kej6OaxAgD"
      },
      "execution_count": null,
      "outputs": []
    },
    {
      "cell_type": "code",
      "source": [
        "#visualizar bibliotecas instaladas\n",
        "pip freeze"
      ],
      "metadata": {
        "id": "91D8mvgXyDFL"
      },
      "execution_count": null,
      "outputs": []
    },
    {
      "cell_type": "code",
      "source": [
        "#instalar bibliotecas de um arquivos especifico\n",
        "pip install -r <arquivo>"
      ],
      "metadata": {
        "id": "aiA5_gUWRVyY"
      },
      "execution_count": null,
      "outputs": []
    }
  ]
}